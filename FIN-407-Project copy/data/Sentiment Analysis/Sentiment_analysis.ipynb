{
 "cells": [
  {
   "cell_type": "markdown",
   "id": "63414766",
   "metadata": {},
   "source": [
    "# BERT Sentiment Analysis\n",
    "\n",
    "For the labeling of the news dataset we have used BERT model called $\\textit{bert-base-multilingual-uncased-sentiment}$ that is fine-tuned for sentiment-analysis.\n",
    "Note: we had to use google colab to run this code as it took over 8 GB of RAM and no team member has enough computing power."
   ]
  },
  {
   "cell_type": "code",
   "execution_count": null,
   "id": "06516f07",
   "metadata": {},
   "outputs": [
    {
     "name": "stderr",
     "output_type": "stream",
     "text": [
      "python(59817) MallocStackLogging: can't turn off malloc stack logging because it was not enabled.\n"
     ]
    }
   ],
   "source": [
    "# Models imports\n",
    "from transformers import AutoTokenizer, AutoModelForSequenceClassification\n",
    "import torch\n",
    "import torch.nn.functional as F\n",
    "device = torch.device(\"cuda\" if torch.cuda.is_available() else \"cpu\")\n",
    "from tqdm import tqdm\n",
    "import joblib\n",
    "import pandas as pd\n",
    "\n",
    "model_name = \"nlptown/bert-base-multilingual-uncased-sentiment\"  # predicts 1 to 5 stars\n",
    "tokenizer = AutoTokenizer.from_pretrained(model_name)\n",
    "model = AutoModelForSequenceClassification.from_pretrained(model_name)\n",
    "model.to(device)\n",
    "\n",
    "data = joblib.load(\"data/Data Files/News_dataset.joblib\")"
   ]
  },
  {
   "cell_type": "code",
   "execution_count": null,
   "id": "27ba1574",
   "metadata": {},
   "outputs": [],
   "source": [
    "tqdm.pandas()\n",
    "def classify_sentiment(text):\n",
    "    \"\"\"\n",
    "    Classifies the sentiment of the input text using a pre-trained model.\n",
    "\n",
    "    Args:\n",
    "        text (str): The input text to classify.\n",
    "\n",
    "    Returns:\n",
    "        int: Predicted sentiment rating as an integer (e.g., 1 to 5 stars).\n",
    "    \"\"\"\n",
    "    # We start by tokenizing the input text and convert to tensor \n",
    "    inputs = tokenizer(text, return_tensors=\"pt\", truncation=True, padding=True)\n",
    "    \n",
    "    # We choose the device on which to run the code, we do this so we can run on the colab GPU\n",
    "    inputs = {k: v.to(device) for k, v in inputs.items()}\n",
    "    \n",
    "    # Disable gradient calculation for inference\n",
    "    with torch.no_grad():\n",
    "        # Run the model and get raw logits\n",
    "        outputs = model(**inputs)\n",
    "        \n",
    "        # Convert logits to probabilities using softmax\n",
    "        probs = F.softmax(outputs.logits, dim=-1)\n",
    "        \n",
    "        # Select the class with the highest probability and adjust to 1-indexed star rating\n",
    "        stars = torch.argmax(probs).item() + 1\n",
    "\n",
    "    return stars"
   ]
  },
  {
   "cell_type": "code",
   "execution_count": null,
   "id": "0df32d93",
   "metadata": {},
   "outputs": [],
   "source": [
    "data['sentiment'] = data['article'].progress_apply(classify_sentiment)\n",
    "\n",
    "aggregate = data.drop(columns=['description','title','Unnamed: 0', 'url', 'source', 'article'])\n",
    "aggregate['date'] = pd.to_datetime(aggregate['date']).dt.date\n",
    "\n",
    "# compute a \"mean sentiment\" for each date and load it to a .csv\n",
    "sentiment_table = aggregate.groupby('date')['sentiment'].mean()\n",
    "sentiment_table.to_csv('data/Data Files/sentiment_data.csv')"
   ]
  }
 ],
 "metadata": {
  "language_info": {
   "name": "python"
  }
 },
 "nbformat": 4,
 "nbformat_minor": 5
}
